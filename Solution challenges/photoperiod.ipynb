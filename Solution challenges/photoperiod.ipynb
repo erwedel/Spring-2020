{
 "cells": [
  {
   "cell_type": "markdown",
   "metadata": {},
   "source": [
    "# Photoperiod"
   ]
  },
  {
   "cell_type": "code",
   "execution_count": 2,
   "metadata": {},
   "outputs": [],
   "source": [
    "import datetime\n",
    "import math"
   ]
  },
  {
   "cell_type": "code",
   "execution_count": 4,
   "metadata": {},
   "outputs": [
    {
     "name": "stdin",
     "output_type": "stream",
     "text": [
      "Enter the date in this format 19-Jul-2020 19-jul-2020\n",
      "Enter latitude in degress. N is positive, S is negative 33.4\n"
     ]
    },
    {
     "name": "stdout",
     "output_type": "stream",
     "text": [
      "The expected photoperiod at 33.4 latitudinal degrees and day 201 of the year is 14.2 hours\n"
     ]
    }
   ],
   "source": [
    "# User input variables\n",
    "t = input (\"Enter the date in this format 19-Jul-2020\") \n",
    "lat_variable = float (input (\"Enter latitude in degress. N is positive, S is negative\"))\n",
    "\n",
    "# Variable of t_julian_date calculations from t variable input by user\n",
    "t_date = datetime.datetime.strptime(t, '%d-%b-%Y')\n",
    "doy = t_date.timetuple().tm_yday\n",
    "\n",
    "# Source for algorithum Keisling, T.C., 1982. Calculation of the Length of Day 1. Agronomy Journal, 74(4), pp.758-759. \n",
    "# Note. variables where converted to degrees from radians for compatiability with python math module.\n",
    "lat_variable_r = math.radians (lat_variable)\n",
    "\n",
    "# Light intensity is used from manuscript\n",
    "light_intensity = 2.206 * 10**-3 \n",
    "\n",
    "# Equation [5] Keisling et al to calculate, B, the angle of the sun below the horizon adn the natural logarithum of the light intensity in cal/cm2/min\n",
    "B = -4.76 - 1.03 * math.log(light_intensity)\n",
    "\n",
    "# Equation [6] Keisling et al to calculate zenithal distance in degrees of the sun at the event of interest \n",
    "zenithal_distance = 90 + B\n",
    "zenithal_distance_r = math.radians(zenithal_distance)\n",
    "\n",
    "# Equation [4] Keisling et al to calculate the sun's mean anomaly in degrees (denoted as M)\n",
    "M = 0.985600*doy - 3.251\n",
    "\n",
    "# Equation [3] Keisling et al to calculate the lambda variable \n",
    "lambda_variable = M + 1.916 * math.sin(math.radians(M)) + 0.020 * math.sin(math.radians(M) * 2) + 282.565\n",
    "\n",
    "# Equation [2] Keisling et al to calculate the declination of the sun to time of year is. \n",
    "declination_of_sun = math.degrees(math.asin(0.39779 * math.sin(math.radians(lambda_variable)))) \n",
    "declination_of_sun_r = math.radians (declination_of_sun)\n",
    "\n",
    "# Equation [1] Keisling et al to calculate the declination of the sun to time of year is.\n",
    "day_length = 2/15 * math.degrees(math.acos(math.cos(zenithal_distance_r) * 1/math.cos(lat_variable_r) * 1/math.cos(declination_of_sun_r) - math.tan(lat_variable_r) * math.tan(declination_of_sun_r)))\n",
    "print ('The expected photoperiod at', (lat_variable), 'latitudinal degrees and day', (doy), 'of the year is', round(day_length, 2), 'hours')  \n"
   ]
  }
 ],
 "metadata": {
  "kernelspec": {
   "display_name": "Python 3",
   "language": "python",
   "name": "python3"
  },
  "language_info": {
   "codemirror_mode": {
    "name": "ipython",
    "version": 3
   },
   "file_extension": ".py",
   "mimetype": "text/x-python",
   "name": "python",
   "nbconvert_exporter": "python",
   "pygments_lexer": "ipython3",
   "version": "3.7.0"
  }
 },
 "nbformat": 4,
 "nbformat_minor": 4
}
