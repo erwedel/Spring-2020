{
 "cells": [
  {
   "cell_type": "markdown",
   "metadata": {},
   "source": [
    "# Day of the year"
   ]
  },
  {
   "cell_type": "code",
   "execution_count": 6,
   "metadata": {},
   "outputs": [],
   "source": [
    "# Importing Modules\n",
    "import math\n",
    "import datetime"
   ]
  },
  {
   "cell_type": "code",
   "execution_count": 9,
   "metadata": {},
   "outputs": [
    {
     "name": "stdout",
     "output_type": "stream",
     "text": [
      "Specified date is: 2020-01-01\n",
      "Day of the year is 1\n"
     ]
    }
   ],
   "source": [
    "# Define 'date_end' as the current date.\n",
    "#date_end = datetime.datetime.now()\n",
    "date_end = datetime.datetime(2020,1,1)\n",
    "print('Specified date is:', date_end.date())\n",
    "\n",
    "# Define 'date_start' as the first day of the first month of the current year.\n",
    "date_start = datetime.datetime(date_end.year,1,1) # Get year from specified date\n",
    "\n",
    "# Calculate the difference between dates.\n",
    "date_diff = date_end - date_start\n",
    "\n",
    "# Convert date_diff from units of daysto just seconds and call result 'total_seconds'.\n",
    "total_seconds = date_diff.total_seconds()\n",
    "\n",
    "# Divide 'total_seconds' by the total seconds in one day (84600 sec./day) to get 'total_days'.\n",
    "seconds_per_day = 86400\n",
    "total_days = total_seconds / (seconds_per_day) + 1#Un-rounded total number of days.\n",
    "\n",
    "# Round 'total_days' up to the nearest whole day and call 'Day_of_Year'.\n",
    "Day_of_Year = math.ceil(total_days)\n",
    "\n",
    "# Report the day of the year: 'Day_of_Year'.\n",
    "print(\"Day of the year is\", Day_of_Year)\n"
   ]
  }
 ],
 "metadata": {
  "kernelspec": {
   "display_name": "Python 3",
   "language": "python",
   "name": "python3"
  },
  "language_info": {
   "codemirror_mode": {
    "name": "ipython",
    "version": 3
   },
   "file_extension": ".py",
   "mimetype": "text/x-python",
   "name": "python",
   "nbconvert_exporter": "python",
   "pygments_lexer": "ipython3",
   "version": "3.7.0"
  }
 },
 "nbformat": 4,
 "nbformat_minor": 4
}
