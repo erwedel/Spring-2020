{
  "cells": [
    {
      "cell_type": "markdown",
      "source": [
        "# Newton's law of cooling\n",
        "\n",
        "The model states that the rate of cooling of a warm body without internal heating is proportional to the temperature difference between the body of interest and the ambient temperature. As a result, the temperature of the body with respect to its surroundings decreases exponentially with time.\n",
        "\n",
        "$$\\frac{dT}{dt}=-K(T_{obj} - T_{amb}) $$\n",
        "\n\n",
        "$\\frac{dT}{dt}$ Rate of change of temperature\n",
        "\n",
        "$-K$ Newton's cooling constant of proportionality (found empirically)\n",
        "\n",
        "$T_{obj}$ Temperature of the medium of interest\n",
        "\n",
        "$T_{amb}$ Ambient temperature. Assumed to be constant and not affected by the object's temperature\n",
        "\n",
        "The equation can be solved analytically or numerically. To practice `for loops` we will implement the solution numerically by discretizing the equation into one minute intervals. This means that the rate of cooling at time $t$ will be approximated by using the tmeperature of the object at time $t-1$. Numerical solutions are just approximations, but if we carefully select the time step and the way in which we conduct the iteration process, then the results can be extremely accurate. In more formal terms:\n",
        "\n",
        "$$\\frac{\\Delta T}{\\Delta t} \\approx \\frac{dT}{dt}=-K(T_{obj} - T_{amb}) $$\n",
        "\n\n\n",
        ">Note that this law does not apply to homeotherm (opposite to poikilotherm) animals. For that case you may want to consider using Fourier's law of heat flow. For more details refer to Kleiber 1972. Some considerations for using this equation for homeotherms is given by Tracy 1972, in which a time-dependent constant of proportionality is suggested as a function of the changing environmental conditions (e.g. wind speed).\n",
        "\nIn case you are interested, a large portion of Neton's research notes have digitized by [Cambridge University Library](https://cudl.lib.cam.ac.uk/collections/newton/1). I highly encourage you to take a look at such wonderful collection from one of the greatest scientists of all time."
      ],
      "metadata": {}
    },
    {
      "cell_type": "code",
      "source": [
        "# Initial conditions\n",
        "dt = 1 # minutes\n",
        "period = 121 # minutes\n",
        "T_cup_pred = [68] # degrees Celsius\n",
        "t_cup_pred = range(period) # time in minutes\n",
        "T_amb = 25.4  # degrees Celsius\n",
        "K = 0.027\n"
      ],
      "outputs": [],
      "execution_count": 22,
      "metadata": {}
    },
    {
      "cell_type": "code",
      "source": [
        "# Implement the model\n",
        "for t in range(1,period):\n",
        "    dT = -K  * ( T_cup_pred[t-1] - T_amb) * dt\n",
        "    T_cup_pred_updated = T_cup_pred[t-1] + dT\n",
        "    T_cup_pred.append(T_cup_pred_updated)\n",
        "    "
      ],
      "outputs": [],
      "execution_count": 23,
      "metadata": {}
    },
    {
      "cell_type": "code",
      "source": [
        "t_cup_obs = [0, 3, 6, 9, 12, 18, 24, 30, 40]\n",
        "T_cup_obs = [68, 64, 60.3, 56.8, 54.5, 49.6, 46.8, 44.1, 40.3]\n"
      ],
      "outputs": [],
      "execution_count": 24,
      "metadata": {}
    },
    {
      "cell_type": "code",
      "source": [
        "import matplotlib.pyplot as plt\n",
        "#%matplotlib inline\n",
        "\n",
        "plt.figure( figsize=(8,5) )\n",
        "plt.plot(t_cup_pred, T_cup_pred, '--k')\n",
        "plt.plot(t_cup_obs, T_cup_obs,'ok')\n",
        "plt.xlabel('Time (minutes)', size=16)\n",
        "plt.ylabel('Temperature (Celsius)', size=16)\n",
        "plt.show()\n"
      ],
      "outputs": [
        {
          "output_type": "display_data",
          "data": {
            "image/png": "[encoded data removed]",
            "text/plain": [
              "<Figure size 576x360 with 1 Axes>"
            ]
          },
          "metadata": {
            "needs_background": "light"
          }
        }
      ],
      "execution_count": 33,
      "metadata": {}
    },
    {
      "cell_type": "code",
      "source": [],
      "outputs": [],
      "execution_count": null,
      "metadata": {}
    }
  ],
  "metadata": {
    "kernelspec": {
      "name": "python3",
      "language": "python",
      "display_name": "Python 3"
    },
    "language_info": {
      "version": "3.5.6",
      "mimetype": "text/x-python",
      "pygments_lexer": "ipython3",
      "name": "python",
      "codemirror_mode": {
        "name": "ipython",
        "version": 3
      },
      "nbconvert_exporter": "python",
      "file_extension": ".py"
    },
    "kernel_info": {
      "name": "python3"
    },
    "nteract": {
      "version": "0.12.1"
    }
  },
  "nbformat": 4,
  "nbformat_minor": 2
}